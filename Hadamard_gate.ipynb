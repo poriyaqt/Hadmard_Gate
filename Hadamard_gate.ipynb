{
 "cells": [
  {
   "cell_type": "code",
   "execution_count": 1,
   "id": "14811f4a-8638-4984-8753-8a883a553db3",
   "metadata": {},
   "outputs": [],
   "source": [
    "# Import required libraries\n",
    "from qiskit import QuantumCircuit\n",
    "from qiskit_aer import AerSimulator\n",
    "from qiskit.visualization import plot_histogram\n",
    "import matplotlib.pyplot as plt"
   ]
  },
  {
   "cell_type": "code",
   "execution_count": 2,
   "id": "23abc7e0-8823-4d6f-afbf-0dd772100c02",
   "metadata": {},
   "outputs": [
    {
     "name": "stdout",
     "output_type": "stream",
     "text": [
      "Circuit saved as 'quantum_circuit.png'\n"
     ]
    }
   ],
   "source": [
    "# Create a quantum circuit with 1 qubit and 1 classical bit\n",
    "qc = QuantumCircuit(1, 1)\n",
    "\n",
    "# Apply Hadamard gate to the qubit\n",
    "qc.h(0)\n",
    "\n",
    "# Measure the qubit and store the result in the classical bit\n",
    "qc.measure(0, 0)\n",
    "# Generate the circuit diagram\n",
    "fig = qc.draw('mpl')  \n",
    "fig.savefig(\"quantum_circuit.png\")  # Save it as a PNG file\n",
    "print(\"Circuit saved as 'quantum_circuit.png'\")"
   ]
  },
  {
   "cell_type": "code",
   "execution_count": 3,
   "id": "fd3d9b2c-c279-4553-8e37-058ef877a513",
   "metadata": {},
   "outputs": [],
   "source": [
    "# Run the simulation\n",
    "# Initialize the AerSimulator\n",
    "simulator = AerSimulator()\n",
    "# Run the circuit 1024 times\n",
    "job = simulator.run(qc, shots=1024)  \n",
    "result = job.result()\n",
    "counts = result.get_counts()"
   ]
  },
  {
   "cell_type": "code",
   "execution_count": 4,
   "id": "c334e09b-082e-421a-9526-a6799cb164ec",
   "metadata": {},
   "outputs": [
    {
     "name": "stdout",
     "output_type": "stream",
     "text": [
      "\n",
      "Measurement Results (counts of |0> and |1>):\n",
      "{'0': 511, '1': 513}\n"
     ]
    }
   ],
   "source": [
    "# Display measurement results as text\n",
    "print(\"\\nMeasurement Results (counts of |0> and |1>):\")\n",
    "print(counts)"
   ]
  },
  {
   "cell_type": "code",
   "execution_count": 6,
   "id": "d0a7a8cb-0abf-4258-8636-88ec6df63bce",
   "metadata": {},
   "outputs": [
    {
     "name": "stdout",
     "output_type": "stream",
     "text": [
      "Histogram saved as 'histogram_results.png'\n"
     ]
    }
   ],
   "source": [
    "# Generate the histogram\n",
    "fig_hist = plot_histogram(counts)  \n",
    "fig_hist.savefig(\"histogram_results.png\")  # Save it as a PNG file\n",
    "print(\"Histogram saved as 'histogram_results.png'\")"
   ]
  },
  {
   "cell_type": "code",
   "execution_count": null,
   "id": "8c837f52-abd7-428d-870c-7cfe227f5328",
   "metadata": {},
   "outputs": [],
   "source": []
  }
 ],
 "metadata": {
  "kernelspec": {
   "display_name": "Python 3 (ipykernel)",
   "language": "python",
   "name": "python3"
  },
  "language_info": {
   "codemirror_mode": {
    "name": "ipython",
    "version": 3
   },
   "file_extension": ".py",
   "mimetype": "text/x-python",
   "name": "python",
   "nbconvert_exporter": "python",
   "pygments_lexer": "ipython3",
   "version": "3.10.16"
  }
 },
 "nbformat": 4,
 "nbformat_minor": 5
}
